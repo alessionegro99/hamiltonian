{
 "cells": [
  {
   "cell_type": "code",
   "execution_count": 1,
   "id": "d54c5026",
   "metadata": {},
   "outputs": [],
   "source": [
    "import itertools"
   ]
  },
  {
   "cell_type": "code",
   "execution_count": 12,
   "id": "6a67c232",
   "metadata": {},
   "outputs": [
    {
     "name": "stdout",
     "output_type": "stream",
     "text": [
      "1080\n"
     ]
    }
   ],
   "source": [
    "res = 0\n",
    "for a, b, c, d, e in itertools.product(range(0,3), range(0,3), range(0,3), range(0,3), range(0,3)):\n",
    "    res += (a**2-2*b)*(-3**b*c+d)*e**2*a*c\n",
    "print(res)"
   ]
  },
  {
   "cell_type": "code",
   "execution_count": null,
   "id": "d3475d97",
   "metadata": {},
   "outputs": [
    {
     "name": "stdout",
     "output_type": "stream",
     "text": [
      "0 1 0 1 2 1\n",
      "0 1 0 2 1 2\n",
      "0 1 2 0 1 2\n",
      "0 1 2 1 0 1\n",
      "0 1 2 1 0 2\n",
      "0 2 0 1 2 1\n",
      "0 2 0 2 1 2\n",
      "0 2 1 0 2 1\n",
      "0 2 1 2 0 1\n",
      "0 2 1 2 0 2\n",
      "1 0 1 0 2 0\n",
      "1 0 1 2 0 2\n",
      "1 0 2 0 1 0\n",
      "1 0 2 0 1 2\n",
      "1 0 2 1 0 2\n",
      "1 2 0 1 2 0\n",
      "1 2 0 2 1 0\n",
      "1 2 0 2 1 2\n",
      "1 2 1 0 2 0\n",
      "1 2 1 2 0 2\n",
      "2 0 1 0 2 0\n",
      "2 0 1 0 2 1\n",
      "2 0 1 2 0 1\n",
      "2 0 2 0 1 0\n",
      "2 0 2 1 0 1\n",
      "2 1 0 1 2 0\n",
      "2 1 0 1 2 1\n",
      "2 1 0 2 1 0\n",
      "2 1 2 0 1 0\n",
      "2 1 2 1 0 1\n",
      "30\n"
     ]
    }
   ],
   "source": [
    "res = 0\n",
    "\n",
    "for a, b, c, d, e, f in itertools.product(range(0,3), range(0,3), range(0,3), range(0,3), range(0,3), range(0,3)):\n",
    "    if b!=a and c!=b and d!=c and e!=c and e!=d and f!=e and a!=f:\n",
    "        print(a, b, c, d, e, f)\n",
    "        res += 1 ## binary valued tensor\n",
    "        \n",
    "print(res)\n"
   ]
  },
  {
   "cell_type": "code",
   "execution_count": null,
   "id": "e8757915",
   "metadata": {},
   "outputs": [],
   "source": []
  },
  {
   "cell_type": "code",
   "execution_count": null,
   "id": "eb492b33",
   "metadata": {},
   "outputs": [],
   "source": []
  }
 ],
 "metadata": {
  "kernelspec": {
   "display_name": ".venv",
   "language": "python",
   "name": "python3"
  },
  "language_info": {
   "codemirror_mode": {
    "name": "ipython",
    "version": 3
   },
   "file_extension": ".py",
   "mimetype": "text/x-python",
   "name": "python",
   "nbconvert_exporter": "python",
   "pygments_lexer": "ipython3",
   "version": "3.12.3"
  }
 },
 "nbformat": 4,
 "nbformat_minor": 5
}
